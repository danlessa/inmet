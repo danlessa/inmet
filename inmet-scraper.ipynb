{
 "cells": [
  {
   "cell_type": "code",
   "execution_count": 1,
   "metadata": {},
   "outputs": [],
   "source": [
    "import requests as req\n",
    "import yaml\n",
    "from pathlib import Path\n",
    "from tqdm.notebook import tqdm"
   ]
  },
  {
   "cell_type": "code",
   "execution_count": 2,
   "metadata": {},
   "outputs": [],
   "source": [
    "OUTPUT_PATH = Path.home() / \"working_dir/inmet\"\n",
    "with open('config.yaml', 'r') as fid:\n",
    "    credentials = yaml.safe_load(fid)"
   ]
  },
  {
   "cell_type": "code",
   "execution_count": 3,
   "metadata": {},
   "outputs": [],
   "source": [
    "s = req.Session()"
   ]
  },
  {
   "cell_type": "code",
   "execution_count": 4,
   "metadata": {},
   "outputs": [
    {
     "name": "stderr",
     "output_type": "stream",
     "text": [
      "\n",
      "KeyboardInterrupt\n",
      "\n"
     ]
    }
   ],
   "source": [
    "login_url = 'http://www.inmet.gov.br/projetos/rede/pesquisa/inicio.php'\n",
    "form_data = \"mCod=danilo.lessa@gmail.com&mSenha=9v3gwf7h&mGerModulo=PES&btnProcesso=+Acessar+\"\n",
    "headers = {'Content-Type': 'application/x-www-form-urlencoded'}\n",
    "s.get(login_url)\n",
    "r = s.post(login_url, form_data, headers=headers)"
   ]
  },
  {
   "cell_type": "code",
   "execution_count": null,
   "metadata": {},
   "outputs": [],
   "source": [
    "stations_url = 'http://www.inmet.gov.br/projetos/rede/pesquisa/mapas_c_horario.php'\n",
    "form_data = 'mUsuario=danilo.lessa%40gmail.com&mGerModulo=PES&mRelDtInicio=01%2F01%2F1900&mRelDtFim=02%2F02%2F2020&mRelRegiao=+&mRelEstado=++&mOpcaoAtrib11=&mOpcaoAtrib1=1&mOpcaoAtrib2=1&mOpcaoAtrib3=&mOpcaoAtrib4=&mOpcaoAtrib5=1&mOpcaoAtrib6=1&mOpcaoAtrib8=1&mOpcaoAtrib9=1&mOpcaoAtrib12=1&btnProcesso=+Pesquisa+'\n",
    "r = s.post(stations_url, form_data, headers=headers)"
   ]
  },
  {
   "cell_type": "code",
   "execution_count": null,
   "metadata": {},
   "outputs": [],
   "source": [
    "blocks = str(r.content).split('//*************')[1:]\n",
    "links = []\n",
    "for block in blocks:\n",
    "    link = block.split('<a href=')[1]\n",
    "    link = link.split(', target=_blank><img')[0]\n",
    "    links.append(link)"
   ]
  },
  {
   "cell_type": "code",
   "execution_count": null,
   "metadata": {},
   "outputs": [],
   "source": [
    "for link in tqdm(links[::-1]):\n",
    "    station_id = link.split('mRelEstacao=')[1].split('&btnProcesso=')[0]\n",
    "    filename = \"{}.txt\".format(station_id)\n",
    "    filepath = OUTPUT_PATH / filename\n",
    "    r = s.get(link)\n",
    "    text = r.text\n",
    "    text = text.split('</head>')[1].replace(\"<pre>\", \"\").replace(\"</pre>\",\"\")\n",
    "    with open(filepath, 'w') as fid:\n",
    "        fid.write(text)"
   ]
  },
  {
   "cell_type": "code",
   "execution_count": null,
   "metadata": {},
   "outputs": [],
   "source": []
  }
 ],
 "metadata": {
  "kernelspec": {
   "display_name": "Python 3",
   "language": "python",
   "name": "python3"
  },
  "language_info": {
   "codemirror_mode": {
    "name": "ipython",
    "version": 3
   },
   "file_extension": ".py",
   "mimetype": "text/x-python",
   "name": "python",
   "nbconvert_exporter": "python",
   "pygments_lexer": "ipython3",
   "version": "3.7.5"
  }
 },
 "nbformat": 4,
 "nbformat_minor": 4
}
