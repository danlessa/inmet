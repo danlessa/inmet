{
 "cells": [
  {
   "cell_type": "code",
   "execution_count": 1,
   "metadata": {},
   "outputs": [],
   "source": [
    "import pandavro as pdx\n",
    "import pandas as pd\n",
    "from pathlib import Path\n",
    "from typing import *\n",
    "import dateutil\n",
    "import io\n",
    "import os\n",
    "from tqdm.notebook import tqdm"
   ]
  },
  {
   "cell_type": "code",
   "execution_count": 10,
   "metadata": {},
   "outputs": [],
   "source": [
    "idx = pd.IndexSlice"
   ]
  },
  {
   "cell_type": "code",
   "execution_count": 2,
   "metadata": {},
   "outputs": [],
   "source": [
    "files_path = Path.home() / \"working_dir/inmet/\""
   ]
  },
  {
   "cell_type": "code",
   "execution_count": 3,
   "metadata": {},
   "outputs": [],
   "source": [
    "def parse_date(string):\n",
    "    return dateutil.parser.parse(string, dayfirst=True)\n",
    "\n",
    "\n",
    "def clean_metadata(metadata_text: str) -> dict:\n",
    "    metadata = {}\n",
    "    metadata_lines = metadata_text.split(\"\\n\")\n",
    "    metadata['station_name'] = (metadata_lines[0].split(\":\")[1]\n",
    "                                                 .split(\"(OMM\")[0]\n",
    "                                                 .strip())\n",
    "    metadata['municipality'] = (metadata['station_name'].split('-')[0]\n",
    "                                                       .strip())\n",
    "    metadata['state'] = (metadata['station_name'].split('-')[1]\n",
    "                                                 .strip())\n",
    "    metadata['latitude'] = (metadata_lines[1].split(\":\")[1]\n",
    "                                             .strip())\n",
    "    metadata['longitude'] = (metadata_lines[2].split(\":\")[1]\n",
    "                                              .strip())\n",
    "    metadata['altitude'] = (metadata_lines[3].split(\":\")[1]\n",
    "                                             .strip())\n",
    "    metadata['status'] = metadata_lines[4]\n",
    "    metadata['operation_start'] = str(parse_date(metadata_lines[5].split(\":\")[1]\n",
    "                                                              .strip()))\n",
    "    return metadata\n",
    "\n",
    "    \n",
    "def clean_data(data_text: str) -> pd.DataFrame:\n",
    "    buffer = io.StringIO(data_text)    \n",
    "    cols = ['station_id',\n",
    "            'date',\n",
    "            'hour',\n",
    "            'temperature_dry',\n",
    "            'temperature_wet',\n",
    "            'humidity_relative',\n",
    "            'air_pressure',\n",
    "            'wind_direction',\n",
    "            'wind_speed']\n",
    "    get_minutes = lambda s: float(s[2:])\n",
    "    get_hours = lambda s: float(s[0:2])\n",
    "    data = (pd.read_csv(buffer, delimiter=';', names=cols, index_col=False).loc[1:]\n",
    "              .assign(date=lambda df: df['date'].map(parse_date))\n",
    "              .assign(minutes=lambda df: pd.to_timedelta(df['hour'].map(get_minutes), unit='m'))\n",
    "              .assign(hour=lambda df: pd.to_timedelta(df['hour'].map(get_hours), unit='h'))\n",
    "              .assign(timestamp=lambda df: df['date'] + df['hour'] + df['minutes'])\n",
    "              .drop(['date', 'hour', 'minutes'], axis='columns')\n",
    "              .set_index(['station_id', 'timestamp'])\n",
    "              .assign(temperature_dry=lambda df: pd.to_numeric(df['temperature_dry']))\n",
    "              .assign(temperature_wet=lambda df: pd.to_numeric(df['temperature_wet']))\n",
    "              .assign(humidity_relative=lambda df: pd.to_numeric(df['humidity_relative']))\n",
    "              .assign(air_pressure=lambda df: pd.to_numeric(df['air_pressure']))\n",
    "              .assign(wind_direction=lambda df: pd.to_numeric(df['wind_direction']) * 10)\n",
    "              .assign(wind_speed=lambda df: pd.to_numeric(df['wind_speed']))\n",
    "           )\n",
    "    return data\n",
    "\n",
    "\n",
    "def clean_data_file(text: str) -> Tuple[pd.DataFrame, dict]:\n",
    "    splitted_text = text.split('--------------------')\n",
    "    metadata_text = splitted_text[2].strip()\n",
    "    metadata = clean_metadata(metadata_text)\n",
    "    data_text = splitted_text[-1].strip()\n",
    "    data = clean_data(data_text)\n",
    "    return (data, metadata)"
   ]
  },
  {
   "cell_type": "code",
   "execution_count": 4,
   "metadata": {},
   "outputs": [
    {
     "data": {
      "application/vnd.jupyter.widget-view+json": {
       "model_id": "79051930cac14c5dad6c32e268013470",
       "version_major": 2,
       "version_minor": 0
      },
      "text/plain": [
       "HBox(children=(FloatProgress(value=0.0, max=234.0), HTML(value='')))"
      ]
     },
     "metadata": {},
     "output_type": "display_data"
    },
    {
     "name": "stdout",
     "output_type": "stream",
     "text": [
      "\n",
      "done\n"
     ]
    }
   ],
   "source": [
    "files_list = os.listdir(files_path)\n",
    "files_list = [file for file in files_list if file[-4:] == '.txt']\n",
    "stations_data = {}\n",
    "stations_metadata = {}\n",
    "for file in tqdm(files_list):\n",
    "    station_id = file.split('.')[0]\n",
    "    filepath = files_path / file\n",
    "    with open(filepath, 'r') as fid:\n",
    "        text = fid.read()\n",
    "    (data, metadata) = clean_data_file(text)\n",
    "    stations_data[station_id] = data\n",
    "    stations_metadata[station_id] = metadata\n",
    "stations_data = pd.concat(list(stations_data.values()))\n",
    "stations_metadata = pd.DataFrame(stations_metadata).T.rename_axis('station_id')\n",
    "print('done')"
   ]
  },
  {
   "cell_type": "code",
   "execution_count": 5,
   "metadata": {},
   "outputs": [],
   "source": [
    "stations_data.to_csv('data/measurements.csv')\n",
    "stations_metadata.to_csv('data/stations.csv')"
   ]
  },
  {
   "cell_type": "code",
   "execution_count": null,
   "metadata": {},
   "outputs": [],
   "source": []
  },
  {
   "cell_type": "code",
   "execution_count": null,
   "metadata": {},
   "outputs": [],
   "source": [
    "pdx.to_avro('data/measurements.avro', stations_data)"
   ]
  },
  {
   "cell_type": "code",
   "execution_count": null,
   "metadata": {},
   "outputs": [],
   "source": []
  }
 ],
 "metadata": {
  "kernelspec": {
   "display_name": "Python 3",
   "language": "python",
   "name": "python3"
  },
  "language_info": {
   "codemirror_mode": {
    "name": "ipython",
    "version": 3
   },
   "file_extension": ".py",
   "mimetype": "text/x-python",
   "name": "python",
   "nbconvert_exporter": "python",
   "pygments_lexer": "ipython3",
   "version": "3.7.5"
  }
 },
 "nbformat": 4,
 "nbformat_minor": 4
}
